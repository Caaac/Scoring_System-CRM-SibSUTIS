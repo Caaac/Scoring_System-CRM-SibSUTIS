{
  "cells": [
    {
      "cell_type": "markdown",
      "metadata": {
        "id": "aervsrLwnJdx"
      },
      "source": [
        "##[Ссылка на датасет](https://huggingface.co/datasets/Rianknow/creditscoring)\n"
      ]
    },
    {
      "cell_type": "code",
      "execution_count": 1,
      "metadata": {
        "colab": {
          "base_uri": "https://localhost:8080/"
        },
        "id": "LH4aKJyfnJdy",
        "outputId": "cd06dd68-148d-4d5a-b79d-a2ab931241cc"
      },
      "outputs": [
        {
          "name": "stdout",
          "output_type": "stream",
          "text": [
            "Requirement already satisfied: category_encoders in /Users/admin/Dev/vue/sibsutis/CRM-SibSUTIS/backend/venv/lib/python3.12/site-packages (2.6.4)\n",
            "Requirement already satisfied: numpy>=1.14.0 in /Users/admin/Dev/vue/sibsutis/CRM-SibSUTIS/backend/venv/lib/python3.12/site-packages (from category_encoders) (1.26.4)\n",
            "Requirement already satisfied: scikit-learn>=0.20.0 in /Users/admin/Dev/vue/sibsutis/CRM-SibSUTIS/backend/venv/lib/python3.12/site-packages (from category_encoders) (1.6.0)\n",
            "Requirement already satisfied: scipy>=1.0.0 in /Users/admin/Dev/vue/sibsutis/CRM-SibSUTIS/backend/venv/lib/python3.12/site-packages (from category_encoders) (1.14.1)\n",
            "Requirement already satisfied: statsmodels>=0.9.0 in /Users/admin/Dev/vue/sibsutis/CRM-SibSUTIS/backend/venv/lib/python3.12/site-packages (from category_encoders) (0.14.4)\n",
            "Requirement already satisfied: pandas>=1.0.5 in /Users/admin/Dev/vue/sibsutis/CRM-SibSUTIS/backend/venv/lib/python3.12/site-packages (from category_encoders) (2.2.3)\n",
            "Requirement already satisfied: patsy>=0.5.1 in /Users/admin/Dev/vue/sibsutis/CRM-SibSUTIS/backend/venv/lib/python3.12/site-packages (from category_encoders) (0.5.6)\n",
            "Requirement already satisfied: python-dateutil>=2.8.2 in /Users/admin/Dev/vue/sibsutis/CRM-SibSUTIS/backend/venv/lib/python3.12/site-packages (from pandas>=1.0.5->category_encoders) (2.9.0.post0)\n",
            "Requirement already satisfied: pytz>=2020.1 in /Users/admin/Dev/vue/sibsutis/CRM-SibSUTIS/backend/venv/lib/python3.12/site-packages (from pandas>=1.0.5->category_encoders) (2024.1)\n",
            "Requirement already satisfied: tzdata>=2022.7 in /Users/admin/Dev/vue/sibsutis/CRM-SibSUTIS/backend/venv/lib/python3.12/site-packages (from pandas>=1.0.5->category_encoders) (2024.1)\n",
            "Requirement already satisfied: six in /Users/admin/Dev/vue/sibsutis/CRM-SibSUTIS/backend/venv/lib/python3.12/site-packages (from patsy>=0.5.1->category_encoders) (1.16.0)\n",
            "Requirement already satisfied: joblib>=1.2.0 in /Users/admin/Dev/vue/sibsutis/CRM-SibSUTIS/backend/venv/lib/python3.12/site-packages (from scikit-learn>=0.20.0->category_encoders) (1.4.2)\n",
            "Requirement already satisfied: threadpoolctl>=3.1.0 in /Users/admin/Dev/vue/sibsutis/CRM-SibSUTIS/backend/venv/lib/python3.12/site-packages (from scikit-learn>=0.20.0->category_encoders) (3.5.0)\n",
            "Requirement already satisfied: packaging>=21.3 in /Users/admin/Dev/vue/sibsutis/CRM-SibSUTIS/backend/venv/lib/python3.12/site-packages (from statsmodels>=0.9.0->category_encoders) (24.2)\n",
            "Requirement already satisfied: catboost in /Users/admin/Dev/vue/sibsutis/CRM-SibSUTIS/backend/venv/lib/python3.12/site-packages (1.2.7)\n",
            "Requirement already satisfied: graphviz in /Users/admin/Dev/vue/sibsutis/CRM-SibSUTIS/backend/venv/lib/python3.12/site-packages (from catboost) (0.20.3)\n",
            "Requirement already satisfied: matplotlib in /Users/admin/Dev/vue/sibsutis/CRM-SibSUTIS/backend/venv/lib/python3.12/site-packages (from catboost) (3.9.2)\n",
            "Requirement already satisfied: numpy<2.0,>=1.16.0 in /Users/admin/Dev/vue/sibsutis/CRM-SibSUTIS/backend/venv/lib/python3.12/site-packages (from catboost) (1.26.4)\n",
            "Requirement already satisfied: pandas>=0.24 in /Users/admin/Dev/vue/sibsutis/CRM-SibSUTIS/backend/venv/lib/python3.12/site-packages (from catboost) (2.2.3)\n",
            "Requirement already satisfied: scipy in /Users/admin/Dev/vue/sibsutis/CRM-SibSUTIS/backend/venv/lib/python3.12/site-packages (from catboost) (1.14.1)\n",
            "Requirement already satisfied: plotly in /Users/admin/Dev/vue/sibsutis/CRM-SibSUTIS/backend/venv/lib/python3.12/site-packages (from catboost) (5.24.1)\n",
            "Requirement already satisfied: six in /Users/admin/Dev/vue/sibsutis/CRM-SibSUTIS/backend/venv/lib/python3.12/site-packages (from catboost) (1.16.0)\n",
            "Requirement already satisfied: python-dateutil>=2.8.2 in /Users/admin/Dev/vue/sibsutis/CRM-SibSUTIS/backend/venv/lib/python3.12/site-packages (from pandas>=0.24->catboost) (2.9.0.post0)\n",
            "Requirement already satisfied: pytz>=2020.1 in /Users/admin/Dev/vue/sibsutis/CRM-SibSUTIS/backend/venv/lib/python3.12/site-packages (from pandas>=0.24->catboost) (2024.1)\n",
            "Requirement already satisfied: tzdata>=2022.7 in /Users/admin/Dev/vue/sibsutis/CRM-SibSUTIS/backend/venv/lib/python3.12/site-packages (from pandas>=0.24->catboost) (2024.1)\n",
            "Requirement already satisfied: contourpy>=1.0.1 in /Users/admin/Dev/vue/sibsutis/CRM-SibSUTIS/backend/venv/lib/python3.12/site-packages (from matplotlib->catboost) (1.3.0)\n",
            "Requirement already satisfied: cycler>=0.10 in /Users/admin/Dev/vue/sibsutis/CRM-SibSUTIS/backend/venv/lib/python3.12/site-packages (from matplotlib->catboost) (0.12.1)\n",
            "Requirement already satisfied: fonttools>=4.22.0 in /Users/admin/Dev/vue/sibsutis/CRM-SibSUTIS/backend/venv/lib/python3.12/site-packages (from matplotlib->catboost) (4.54.1)\n",
            "Requirement already satisfied: kiwisolver>=1.3.1 in /Users/admin/Dev/vue/sibsutis/CRM-SibSUTIS/backend/venv/lib/python3.12/site-packages (from matplotlib->catboost) (1.4.7)\n",
            "Requirement already satisfied: packaging>=20.0 in /Users/admin/Dev/vue/sibsutis/CRM-SibSUTIS/backend/venv/lib/python3.12/site-packages (from matplotlib->catboost) (24.2)\n",
            "Requirement already satisfied: pillow>=8 in /Users/admin/Dev/vue/sibsutis/CRM-SibSUTIS/backend/venv/lib/python3.12/site-packages (from matplotlib->catboost) (11.0.0)\n",
            "Requirement already satisfied: pyparsing>=2.3.1 in /Users/admin/Dev/vue/sibsutis/CRM-SibSUTIS/backend/venv/lib/python3.12/site-packages (from matplotlib->catboost) (3.2.0)\n",
            "Requirement already satisfied: tenacity>=6.2.0 in /Users/admin/Dev/vue/sibsutis/CRM-SibSUTIS/backend/venv/lib/python3.12/site-packages (from plotly->catboost) (9.0.0)\n",
            "Requirement already satisfied: optuna in /Users/admin/Dev/vue/sibsutis/CRM-SibSUTIS/backend/venv/lib/python3.12/site-packages (4.1.0)\n",
            "Requirement already satisfied: alembic>=1.5.0 in /Users/admin/Dev/vue/sibsutis/CRM-SibSUTIS/backend/venv/lib/python3.12/site-packages (from optuna) (1.14.0)\n",
            "Requirement already satisfied: colorlog in /Users/admin/Dev/vue/sibsutis/CRM-SibSUTIS/backend/venv/lib/python3.12/site-packages (from optuna) (6.9.0)\n",
            "Requirement already satisfied: numpy in /Users/admin/Dev/vue/sibsutis/CRM-SibSUTIS/backend/venv/lib/python3.12/site-packages (from optuna) (1.26.4)\n",
            "Requirement already satisfied: packaging>=20.0 in /Users/admin/Dev/vue/sibsutis/CRM-SibSUTIS/backend/venv/lib/python3.12/site-packages (from optuna) (24.2)\n",
            "Requirement already satisfied: sqlalchemy>=1.4.2 in /Users/admin/Dev/vue/sibsutis/CRM-SibSUTIS/backend/venv/lib/python3.12/site-packages (from optuna) (2.0.36)\n",
            "Requirement already satisfied: tqdm in /Users/admin/Dev/vue/sibsutis/CRM-SibSUTIS/backend/venv/lib/python3.12/site-packages (from optuna) (4.67.0)\n",
            "Requirement already satisfied: PyYAML in /Users/admin/Dev/vue/sibsutis/CRM-SibSUTIS/backend/venv/lib/python3.12/site-packages (from optuna) (6.0.2)\n",
            "Requirement already satisfied: Mako in /Users/admin/Dev/vue/sibsutis/CRM-SibSUTIS/backend/venv/lib/python3.12/site-packages (from alembic>=1.5.0->optuna) (1.3.8)\n",
            "Requirement already satisfied: typing-extensions>=4 in /Users/admin/Dev/vue/sibsutis/CRM-SibSUTIS/backend/venv/lib/python3.12/site-packages (from alembic>=1.5.0->optuna) (4.11.0)\n",
            "Requirement already satisfied: MarkupSafe>=0.9.2 in /Users/admin/Dev/vue/sibsutis/CRM-SibSUTIS/backend/venv/lib/python3.12/site-packages (from Mako->alembic>=1.5.0->optuna) (3.0.2)\n",
            "Requirement already satisfied: catboost in /Users/admin/Dev/vue/sibsutis/CRM-SibSUTIS/backend/venv/lib/python3.12/site-packages (1.2.7)\n",
            "Requirement already satisfied: graphviz in /Users/admin/Dev/vue/sibsutis/CRM-SibSUTIS/backend/venv/lib/python3.12/site-packages (from catboost) (0.20.3)\n",
            "Requirement already satisfied: matplotlib in /Users/admin/Dev/vue/sibsutis/CRM-SibSUTIS/backend/venv/lib/python3.12/site-packages (from catboost) (3.9.2)\n",
            "Requirement already satisfied: numpy<2.0,>=1.16.0 in /Users/admin/Dev/vue/sibsutis/CRM-SibSUTIS/backend/venv/lib/python3.12/site-packages (from catboost) (1.26.4)\n",
            "Requirement already satisfied: pandas>=0.24 in /Users/admin/Dev/vue/sibsutis/CRM-SibSUTIS/backend/venv/lib/python3.12/site-packages (from catboost) (2.2.3)\n",
            "Requirement already satisfied: scipy in /Users/admin/Dev/vue/sibsutis/CRM-SibSUTIS/backend/venv/lib/python3.12/site-packages (from catboost) (1.14.1)\n",
            "Requirement already satisfied: plotly in /Users/admin/Dev/vue/sibsutis/CRM-SibSUTIS/backend/venv/lib/python3.12/site-packages (from catboost) (5.24.1)\n",
            "Requirement already satisfied: six in /Users/admin/Dev/vue/sibsutis/CRM-SibSUTIS/backend/venv/lib/python3.12/site-packages (from catboost) (1.16.0)\n",
            "Requirement already satisfied: python-dateutil>=2.8.2 in /Users/admin/Dev/vue/sibsutis/CRM-SibSUTIS/backend/venv/lib/python3.12/site-packages (from pandas>=0.24->catboost) (2.9.0.post0)\n",
            "Requirement already satisfied: pytz>=2020.1 in /Users/admin/Dev/vue/sibsutis/CRM-SibSUTIS/backend/venv/lib/python3.12/site-packages (from pandas>=0.24->catboost) (2024.1)\n",
            "Requirement already satisfied: tzdata>=2022.7 in /Users/admin/Dev/vue/sibsutis/CRM-SibSUTIS/backend/venv/lib/python3.12/site-packages (from pandas>=0.24->catboost) (2024.1)\n",
            "Requirement already satisfied: contourpy>=1.0.1 in /Users/admin/Dev/vue/sibsutis/CRM-SibSUTIS/backend/venv/lib/python3.12/site-packages (from matplotlib->catboost) (1.3.0)\n",
            "Requirement already satisfied: cycler>=0.10 in /Users/admin/Dev/vue/sibsutis/CRM-SibSUTIS/backend/venv/lib/python3.12/site-packages (from matplotlib->catboost) (0.12.1)\n",
            "Requirement already satisfied: fonttools>=4.22.0 in /Users/admin/Dev/vue/sibsutis/CRM-SibSUTIS/backend/venv/lib/python3.12/site-packages (from matplotlib->catboost) (4.54.1)\n",
            "Requirement already satisfied: kiwisolver>=1.3.1 in /Users/admin/Dev/vue/sibsutis/CRM-SibSUTIS/backend/venv/lib/python3.12/site-packages (from matplotlib->catboost) (1.4.7)\n",
            "Requirement already satisfied: packaging>=20.0 in /Users/admin/Dev/vue/sibsutis/CRM-SibSUTIS/backend/venv/lib/python3.12/site-packages (from matplotlib->catboost) (24.2)\n",
            "Requirement already satisfied: pillow>=8 in /Users/admin/Dev/vue/sibsutis/CRM-SibSUTIS/backend/venv/lib/python3.12/site-packages (from matplotlib->catboost) (11.0.0)\n",
            "Requirement already satisfied: pyparsing>=2.3.1 in /Users/admin/Dev/vue/sibsutis/CRM-SibSUTIS/backend/venv/lib/python3.12/site-packages (from matplotlib->catboost) (3.2.0)\n",
            "Requirement already satisfied: tenacity>=6.2.0 in /Users/admin/Dev/vue/sibsutis/CRM-SibSUTIS/backend/venv/lib/python3.12/site-packages (from plotly->catboost) (9.0.0)\n",
            "Requirement already satisfied: optuna in /Users/admin/Dev/vue/sibsutis/CRM-SibSUTIS/backend/venv/lib/python3.12/site-packages (4.1.0)\n",
            "Requirement already satisfied: alembic>=1.5.0 in /Users/admin/Dev/vue/sibsutis/CRM-SibSUTIS/backend/venv/lib/python3.12/site-packages (from optuna) (1.14.0)\n",
            "Requirement already satisfied: colorlog in /Users/admin/Dev/vue/sibsutis/CRM-SibSUTIS/backend/venv/lib/python3.12/site-packages (from optuna) (6.9.0)\n",
            "Requirement already satisfied: numpy in /Users/admin/Dev/vue/sibsutis/CRM-SibSUTIS/backend/venv/lib/python3.12/site-packages (from optuna) (1.26.4)\n",
            "Requirement already satisfied: packaging>=20.0 in /Users/admin/Dev/vue/sibsutis/CRM-SibSUTIS/backend/venv/lib/python3.12/site-packages (from optuna) (24.2)\n",
            "Requirement already satisfied: sqlalchemy>=1.4.2 in /Users/admin/Dev/vue/sibsutis/CRM-SibSUTIS/backend/venv/lib/python3.12/site-packages (from optuna) (2.0.36)\n",
            "Requirement already satisfied: tqdm in /Users/admin/Dev/vue/sibsutis/CRM-SibSUTIS/backend/venv/lib/python3.12/site-packages (from optuna) (4.67.0)\n",
            "Requirement already satisfied: PyYAML in /Users/admin/Dev/vue/sibsutis/CRM-SibSUTIS/backend/venv/lib/python3.12/site-packages (from optuna) (6.0.2)\n",
            "Requirement already satisfied: Mako in /Users/admin/Dev/vue/sibsutis/CRM-SibSUTIS/backend/venv/lib/python3.12/site-packages (from alembic>=1.5.0->optuna) (1.3.8)\n",
            "Requirement already satisfied: typing-extensions>=4 in /Users/admin/Dev/vue/sibsutis/CRM-SibSUTIS/backend/venv/lib/python3.12/site-packages (from alembic>=1.5.0->optuna) (4.11.0)\n",
            "Requirement already satisfied: MarkupSafe>=0.9.2 in /Users/admin/Dev/vue/sibsutis/CRM-SibSUTIS/backend/venv/lib/python3.12/site-packages (from Mako->alembic>=1.5.0->optuna) (3.0.2)\n",
            "zsh:1: no matches found: optuna-integration[catboost]\n"
          ]
        },
        {
          "name": "stderr",
          "output_type": "stream",
          "text": [
            "/Users/admin/Dev/vue/sibsutis/CRM-SibSUTIS/backend/venv/lib/python3.12/site-packages/tqdm/auto.py:21: TqdmWarning: IProgress not found. Please update jupyter and ipywidgets. See https://ipywidgets.readthedocs.io/en/stable/user_install.html\n",
            "  from .autonotebook import tqdm as notebook_tqdm\n"
          ]
        }
      ],
      "source": [
        "!pip install category_encoders\n",
        "!pip install catboost\n",
        "!pip install optuna\n",
        "!pip install lime -q\n",
        "!pip install shap -q\n",
        "!pip install eli5 -q\n",
        "!pip install phik -q\n",
        "!pip install catboost\n",
        "!pip install optuna\n",
        "!pip install optuna-integration[catboost]\n",
        "!pip install optuna catboost -q\n",
        "import optuna\n",
        "from optuna.integration import CatBoostPruningCallback\n",
        "import phik\n",
        "from phik.report import plot_correlation_matrix\n",
        "from phik import report\n",
        "from catboost import CatBoostClassifier\n",
        "from lightgbm import LGBMClassifier\n",
        "from xgboost import XGBClassifier\n",
        "from sklearn.ensemble import RandomForestClassifier\n",
        "from sklearn.linear_model import LogisticRegression\n",
        "from sklearn.metrics import roc_auc_score\n",
        "import numpy as np\n",
        "import pandas as pd\n",
        "import pickle\n",
        "import matplotlib\n",
        "import matplotlib.pyplot as plt\n",
        "import seaborn as sns\n",
        "%matplotlib inline\n",
        "from sklearn.model_selection import train_test_split, GridSearchCV\n",
        "from sklearn.preprocessing import StandardScaler\n",
        "from sklearn.preprocessing import MinMaxScaler\n",
        "from sklearn import tree\n",
        "from sklearn.preprocessing import PolynomialFeatures\n",
        "from tqdm import tqdm\n",
        "from sklearn.preprocessing import OrdinalEncoder\n",
        "from sklearn.model_selection import KFold, StratifiedKFold\n",
        "from sklearn.model_selection import train_test_split\n",
        "from sklearn.neural_network import MLPClassifier\n",
        "from sklearn.metrics import accuracy_score\n",
        "from sklearn.preprocessing import LabelEncoder\n",
        "import shap\n",
        "import lime\n",
        "from catboost import CatBoostRegressor, Pool, CatBoostClassifier"
      ]
    },
    {
      "cell_type": "code",
      "execution_count": 2,
      "metadata": {
        "colab": {
          "base_uri": "https://localhost:8080/",
          "height": 466
        },
        "id": "R0TSHIagnJdz",
        "outputId": "c911e69b-01e3-48ab-c6f9-fea784fe5de9"
      },
      "outputs": [
        {
          "name": "stderr",
          "output_type": "stream",
          "text": [
            "/var/folders/_m/n57jfftj32jbkm7dyvz9gpj80000gn/T/ipykernel_48160/3777082345.py:1: DtypeWarning: Columns (26) have mixed types. Specify dtype option on import or set low_memory=False.\n",
            "  df = pd.read_csv('./dataset/creditscoring/train.csv', sep = ',')\n"
          ]
        },
        {
          "data": {
            "text/html": [
              "<div>\n",
              "<style scoped>\n",
              "    .dataframe tbody tr th:only-of-type {\n",
              "        vertical-align: middle;\n",
              "    }\n",
              "\n",
              "    .dataframe tbody tr th {\n",
              "        vertical-align: top;\n",
              "    }\n",
              "\n",
              "    .dataframe thead th {\n",
              "        text-align: right;\n",
              "    }\n",
              "</style>\n",
              "<table border=\"1\" class=\"dataframe\">\n",
              "  <thead>\n",
              "    <tr style=\"text-align: right;\">\n",
              "      <th></th>\n",
              "      <th>ID</th>\n",
              "      <th>Customer_ID</th>\n",
              "      <th>Month</th>\n",
              "      <th>Name</th>\n",
              "      <th>Age</th>\n",
              "      <th>SSN</th>\n",
              "      <th>Occupation</th>\n",
              "      <th>Annual_Income</th>\n",
              "      <th>Monthly_Inhand_Salary</th>\n",
              "      <th>Num_Bank_Accounts</th>\n",
              "      <th>...</th>\n",
              "      <th>Credit_Mix</th>\n",
              "      <th>Outstanding_Debt</th>\n",
              "      <th>Credit_Utilization_Ratio</th>\n",
              "      <th>Credit_History_Age</th>\n",
              "      <th>Payment_of_Min_Amount</th>\n",
              "      <th>Total_EMI_per_month</th>\n",
              "      <th>Amount_invested_monthly</th>\n",
              "      <th>Payment_Behaviour</th>\n",
              "      <th>Monthly_Balance</th>\n",
              "      <th>Credit_Score</th>\n",
              "    </tr>\n",
              "  </thead>\n",
              "  <tbody>\n",
              "    <tr>\n",
              "      <th>0</th>\n",
              "      <td>0x1602</td>\n",
              "      <td>CUS_0xd40</td>\n",
              "      <td>January</td>\n",
              "      <td>Aaron Maashoh</td>\n",
              "      <td>23</td>\n",
              "      <td>821-00-0265</td>\n",
              "      <td>Scientist</td>\n",
              "      <td>19114.12</td>\n",
              "      <td>1824.843333</td>\n",
              "      <td>3</td>\n",
              "      <td>...</td>\n",
              "      <td>NaN</td>\n",
              "      <td>809.98</td>\n",
              "      <td>26.822620</td>\n",
              "      <td>22 Years and 1 Months</td>\n",
              "      <td>No</td>\n",
              "      <td>49.574949</td>\n",
              "      <td>80.41529543900253</td>\n",
              "      <td>High_spent_Small_value_payments</td>\n",
              "      <td>312.49408867943663</td>\n",
              "      <td>Good</td>\n",
              "    </tr>\n",
              "    <tr>\n",
              "      <th>1</th>\n",
              "      <td>0x1603</td>\n",
              "      <td>CUS_0xd40</td>\n",
              "      <td>February</td>\n",
              "      <td>Aaron Maashoh</td>\n",
              "      <td>23</td>\n",
              "      <td>821-00-0265</td>\n",
              "      <td>Scientist</td>\n",
              "      <td>19114.12</td>\n",
              "      <td>NaN</td>\n",
              "      <td>3</td>\n",
              "      <td>...</td>\n",
              "      <td>Good</td>\n",
              "      <td>809.98</td>\n",
              "      <td>31.944960</td>\n",
              "      <td>NaN</td>\n",
              "      <td>No</td>\n",
              "      <td>49.574949</td>\n",
              "      <td>118.28022162236736</td>\n",
              "      <td>Low_spent_Large_value_payments</td>\n",
              "      <td>284.62916249607184</td>\n",
              "      <td>Good</td>\n",
              "    </tr>\n",
              "    <tr>\n",
              "      <th>2</th>\n",
              "      <td>0x1604</td>\n",
              "      <td>CUS_0xd40</td>\n",
              "      <td>March</td>\n",
              "      <td>Aaron Maashoh</td>\n",
              "      <td>-500</td>\n",
              "      <td>821-00-0265</td>\n",
              "      <td>Scientist</td>\n",
              "      <td>19114.12</td>\n",
              "      <td>NaN</td>\n",
              "      <td>3</td>\n",
              "      <td>...</td>\n",
              "      <td>Good</td>\n",
              "      <td>809.98</td>\n",
              "      <td>28.609352</td>\n",
              "      <td>22 Years and 3 Months</td>\n",
              "      <td>No</td>\n",
              "      <td>49.574949</td>\n",
              "      <td>81.699521264648</td>\n",
              "      <td>Low_spent_Medium_value_payments</td>\n",
              "      <td>331.2098628537912</td>\n",
              "      <td>Good</td>\n",
              "    </tr>\n",
              "    <tr>\n",
              "      <th>3</th>\n",
              "      <td>0x1605</td>\n",
              "      <td>CUS_0xd40</td>\n",
              "      <td>April</td>\n",
              "      <td>Aaron Maashoh</td>\n",
              "      <td>23</td>\n",
              "      <td>821-00-0265</td>\n",
              "      <td>Scientist</td>\n",
              "      <td>19114.12</td>\n",
              "      <td>NaN</td>\n",
              "      <td>3</td>\n",
              "      <td>...</td>\n",
              "      <td>Good</td>\n",
              "      <td>809.98</td>\n",
              "      <td>31.377862</td>\n",
              "      <td>22 Years and 4 Months</td>\n",
              "      <td>No</td>\n",
              "      <td>49.574949</td>\n",
              "      <td>199.4580743910713</td>\n",
              "      <td>Low_spent_Small_value_payments</td>\n",
              "      <td>223.45130972736786</td>\n",
              "      <td>Good</td>\n",
              "    </tr>\n",
              "    <tr>\n",
              "      <th>4</th>\n",
              "      <td>0x1606</td>\n",
              "      <td>CUS_0xd40</td>\n",
              "      <td>May</td>\n",
              "      <td>Aaron Maashoh</td>\n",
              "      <td>23</td>\n",
              "      <td>821-00-0265</td>\n",
              "      <td>Scientist</td>\n",
              "      <td>19114.12</td>\n",
              "      <td>1824.843333</td>\n",
              "      <td>3</td>\n",
              "      <td>...</td>\n",
              "      <td>Good</td>\n",
              "      <td>809.98</td>\n",
              "      <td>24.797347</td>\n",
              "      <td>22 Years and 5 Months</td>\n",
              "      <td>No</td>\n",
              "      <td>49.574949</td>\n",
              "      <td>41.420153086217326</td>\n",
              "      <td>High_spent_Medium_value_payments</td>\n",
              "      <td>341.48923103222177</td>\n",
              "      <td>Good</td>\n",
              "    </tr>\n",
              "  </tbody>\n",
              "</table>\n",
              "<p>5 rows × 28 columns</p>\n",
              "</div>"
            ],
            "text/plain": [
              "       ID Customer_ID     Month           Name   Age          SSN Occupation  \\\n",
              "0  0x1602   CUS_0xd40   January  Aaron Maashoh    23  821-00-0265  Scientist   \n",
              "1  0x1603   CUS_0xd40  February  Aaron Maashoh    23  821-00-0265  Scientist   \n",
              "2  0x1604   CUS_0xd40     March  Aaron Maashoh  -500  821-00-0265  Scientist   \n",
              "3  0x1605   CUS_0xd40     April  Aaron Maashoh    23  821-00-0265  Scientist   \n",
              "4  0x1606   CUS_0xd40       May  Aaron Maashoh    23  821-00-0265  Scientist   \n",
              "\n",
              "  Annual_Income  Monthly_Inhand_Salary  Num_Bank_Accounts  ...  Credit_Mix  \\\n",
              "0      19114.12            1824.843333                  3  ...         NaN   \n",
              "1      19114.12                    NaN                  3  ...        Good   \n",
              "2      19114.12                    NaN                  3  ...        Good   \n",
              "3      19114.12                    NaN                  3  ...        Good   \n",
              "4      19114.12            1824.843333                  3  ...        Good   \n",
              "\n",
              "   Outstanding_Debt Credit_Utilization_Ratio     Credit_History_Age  \\\n",
              "0            809.98                26.822620  22 Years and 1 Months   \n",
              "1            809.98                31.944960                    NaN   \n",
              "2            809.98                28.609352  22 Years and 3 Months   \n",
              "3            809.98                31.377862  22 Years and 4 Months   \n",
              "4            809.98                24.797347  22 Years and 5 Months   \n",
              "\n",
              "   Payment_of_Min_Amount Total_EMI_per_month Amount_invested_monthly  \\\n",
              "0                     No           49.574949       80.41529543900253   \n",
              "1                     No           49.574949      118.28022162236736   \n",
              "2                     No           49.574949         81.699521264648   \n",
              "3                     No           49.574949       199.4580743910713   \n",
              "4                     No           49.574949      41.420153086217326   \n",
              "\n",
              "                  Payment_Behaviour     Monthly_Balance Credit_Score  \n",
              "0   High_spent_Small_value_payments  312.49408867943663         Good  \n",
              "1    Low_spent_Large_value_payments  284.62916249607184         Good  \n",
              "2   Low_spent_Medium_value_payments   331.2098628537912         Good  \n",
              "3    Low_spent_Small_value_payments  223.45130972736786         Good  \n",
              "4  High_spent_Medium_value_payments  341.48923103222177         Good  \n",
              "\n",
              "[5 rows x 28 columns]"
            ]
          },
          "execution_count": 2,
          "metadata": {},
          "output_type": "execute_result"
        }
      ],
      "source": [
        "df = pd.read_csv('./dataset/creditscoring/train.csv', sep = ',')\n",
        "df.replace('_', np.nan, inplace = True)\n",
        "df.head()"
      ]
    },
    {
      "cell_type": "code",
      "execution_count": 3,
      "metadata": {
        "colab": {
          "base_uri": "https://localhost:8080/",
          "height": 961
        },
        "id": "-Q_SYj4knJdz",
        "outputId": "8375b68e-a77e-47f1-c3ac-343993b18fd8"
      },
      "outputs": [
        {
          "data": {
            "text/plain": [
              "ID                           object\n",
              "Customer_ID                  object\n",
              "Month                        object\n",
              "Name                         object\n",
              "Age                          object\n",
              "SSN                          object\n",
              "Occupation                   object\n",
              "Annual_Income                object\n",
              "Monthly_Inhand_Salary       float64\n",
              "Num_Bank_Accounts             int64\n",
              "Num_Credit_Card               int64\n",
              "Interest_Rate                 int64\n",
              "Num_of_Loan                  object\n",
              "Type_of_Loan                 object\n",
              "Delay_from_due_date           int64\n",
              "Num_of_Delayed_Payment       object\n",
              "Changed_Credit_Limit         object\n",
              "Num_Credit_Inquiries        float64\n",
              "Credit_Mix                   object\n",
              "Outstanding_Debt             object\n",
              "Credit_Utilization_Ratio    float64\n",
              "Credit_History_Age           object\n",
              "Payment_of_Min_Amount        object\n",
              "Total_EMI_per_month         float64\n",
              "Amount_invested_monthly      object\n",
              "Payment_Behaviour            object\n",
              "Monthly_Balance              object\n",
              "Credit_Score                 object\n",
              "dtype: object"
            ]
          },
          "execution_count": 3,
          "metadata": {},
          "output_type": "execute_result"
        }
      ],
      "source": [
        "df.dtypes"
      ]
    },
    {
      "cell_type": "code",
      "execution_count": 4,
      "metadata": {
        "colab": {
          "base_uri": "https://localhost:8080/"
        },
        "id": "-hDUoAHKnJdz",
        "outputId": "b150865c-beb4-49ef-ba24-b4a5a8fcfbc1"
      },
      "outputs": [
        {
          "data": {
            "text/plain": [
              "(100000, 28)"
            ]
          },
          "execution_count": 4,
          "metadata": {},
          "output_type": "execute_result"
        }
      ],
      "source": [
        "df.shape\n",
        "\n",
        "# df.drop(columns='Name', inplace=True, axis=1) # Удаление столбца"
      ]
    },
    {
      "cell_type": "code",
      "execution_count": 5,
      "metadata": {
        "colab": {
          "base_uri": "https://localhost:8080/"
        },
        "id": "WCcicdfZnJdz",
        "outputId": "beff323d-52f6-4a71-81bd-c75a8f4b97d0"
      },
      "outputs": [
        {
          "name": "stdout",
          "output_type": "stream",
          "text": [
            "ID                           0.000\n",
            "Customer_ID                  0.000\n",
            "Month                        0.000\n",
            "Name                         9.985\n",
            "Age                          0.000\n",
            "SSN                          0.000\n",
            "Occupation                   0.000\n",
            "Annual_Income                0.000\n",
            "Monthly_Inhand_Salary       15.002\n",
            "Num_Bank_Accounts            0.000\n",
            "Num_Credit_Card              0.000\n",
            "Interest_Rate                0.000\n",
            "Num_of_Loan                  0.000\n",
            "Type_of_Loan                11.408\n",
            "Delay_from_due_date          0.000\n",
            "Num_of_Delayed_Payment       7.002\n",
            "Changed_Credit_Limit         2.091\n",
            "Num_Credit_Inquiries         1.965\n",
            "Credit_Mix                  20.195\n",
            "Outstanding_Debt             0.000\n",
            "Credit_Utilization_Ratio     0.000\n",
            "Credit_History_Age           9.030\n",
            "Payment_of_Min_Amount        0.000\n",
            "Total_EMI_per_month          0.000\n",
            "Amount_invested_monthly      4.479\n",
            "Payment_Behaviour            0.000\n",
            "Monthly_Balance              1.200\n",
            "Credit_Score                 0.000\n",
            "dtype: float64\n"
          ]
        }
      ],
      "source": [
        "print((df.isnull().sum())/df.shape[0]*100)\n"
      ]
    },
    {
      "cell_type": "code",
      "execution_count": 6,
      "metadata": {
        "id": "tMDxqRb3nJd0"
      },
      "outputs": [],
      "source": [
        "df['Num_of_Delayed_Payment'] = df['Num_of_Delayed_Payment'].str.replace('_', '')\n",
        "df['Amount_invested_monthly'] = df['Amount_invested_monthly'].str.replace('__', '')\n",
        "df['Monthly_Balance'] = df['Monthly_Balance'].str.replace('__', '')\n",
        "df['Age'] = df['Age'].str.replace('_', '')\n",
        "df['Annual_Income'] = df['Annual_Income'].str.replace('_', '')\n",
        "df['Outstanding_Debt'] = df['Outstanding_Debt'].str.replace('_', '')\n",
        "df['Num_of_Loan'] = df['Num_of_Loan'].str.replace('_', '')\n",
        "df['Changed_Credit_Limit'] = df['Changed_Credit_Limit'].str.replace('_', '')\n",
        "\n",
        "df['Num_of_Delayed_Payment'] = df['Num_of_Delayed_Payment'].astype(float)\n",
        "df['Amount_invested_monthly'] = df['Amount_invested_monthly'].astype(float)\n",
        "df['Monthly_Balance'] = df['Monthly_Balance'].astype(float)\n",
        "df['Age'] = df['Age'].astype(int)\n",
        "df['Annual_Income'] = df['Annual_Income'].astype(float)\n",
        "df['Outstanding_Debt'] = df['Outstanding_Debt'].astype(float)\n",
        "df['Num_of_Loan'] = df['Num_of_Loan'].astype(float)\n",
        "df['Changed_Credit_Limit'] = df['Changed_Credit_Limit'].astype(float)"
      ]
    },
    {
      "cell_type": "code",
      "execution_count": null,
      "metadata": {
        "colab": {
          "base_uri": "https://localhost:8080/"
        },
        "id": "7FLFXgfVnJd0",
        "outputId": "d1bc0219-f25e-4627-df8a-901329c506c8"
      },
      "outputs": [
        {
          "data": {
            "text/plain": [
              "['Month',\n",
              " 'Occupation',\n",
              " 'Type_of_Loan',\n",
              " 'Credit_Mix',\n",
              " 'Payment_of_Min_Amount',\n",
              " 'Payment_Behaviour']"
            ]
          },
          "execution_count": 7,
          "metadata": {},
          "output_type": "execute_result"
        }
      ],
      "source": [
        "dropCol = [\n",
        "  'ID', \n",
        "  'SSN', \n",
        "  'Name', \n",
        "  'Customer_ID', \n",
        "  'Credit_History_Age', \n",
        "  'Occupation', \n",
        "  'Num_Bank_Accounts', \n",
        "  'Num_Credit_Card', \n",
        "  'Type_of_Loan', \n",
        "  'Interest_Rate', \n",
        "  'Num_of_Delayed_Payment', \n",
        "  'Changed_Credit_Limit', \n",
        "  'Credit_Mix', \n",
        "  'Outstanding_Debt', \n",
        "  'Credit_Utilization_Ratio', \n",
        "  'Payment_of_Min_Amount', \n",
        "  'Amount_invested_monthly',\n",
        "  'Monthly_Balance',\n",
        "  'Total_EMI_per_month', \n",
        "  'Payment_Behaviour'\n",
        "]\n",
        "\n",
        "for col in dropCol:\n",
        "  df.drop(columns=col, inplace=True, axis=1)\n",
        "\n",
        "cat_features = []\n",
        "\n",
        "for col_name, col_type in df.dtypes.items():\n",
        "  if (col_type == object):\n",
        "    cat_features.append(col_name)\n",
        "\n",
        "del cat_features[cat_features.index('Credit_Score')]\n",
        "\n",
        "cat_features\n"
      ]
    },
    {
      "cell_type": "code",
      "execution_count": 8,
      "metadata": {
        "colab": {
          "base_uri": "https://localhost:8080/"
        },
        "id": "Nx0Vq8LqnJd0",
        "outputId": "6ead1b1c-6dc6-4cbd-83be-ec8869d51387"
      },
      "outputs": [
        {
          "name": "stderr",
          "output_type": "stream",
          "text": [
            "/var/folders/_m/n57jfftj32jbkm7dyvz9gpj80000gn/T/ipykernel_48160/4286832188.py:4: FutureWarning: A value is trying to be set on a copy of a DataFrame or Series through chained assignment using an inplace method.\n",
            "The behavior will change in pandas 3.0. This inplace method will never work because the intermediate object on which we are setting values always behaves as a copy.\n",
            "\n",
            "For example, when doing 'df[col].method(value, inplace=True)', try using 'df.method({col: value}, inplace=True)' or df[col] = df[col].method(value) instead, to perform the operation inplace on the original object.\n",
            "\n",
            "\n",
            "  df[feature].fillna(mode_value, inplace=True)\n",
            "/var/folders/_m/n57jfftj32jbkm7dyvz9gpj80000gn/T/ipykernel_48160/4286832188.py:8: FutureWarning: A value is trying to be set on a copy of a DataFrame or Series through chained assignment using an inplace method.\n",
            "The behavior will change in pandas 3.0. This inplace method will never work because the intermediate object on which we are setting values always behaves as a copy.\n",
            "\n",
            "For example, when doing 'df[col].method(value, inplace=True)', try using 'df.method({col: value}, inplace=True)' or df[col] = df[col].method(value) instead, to perform the operation inplace on the original object.\n",
            "\n",
            "\n",
            "  df[feature].fillna(median_value, inplace=True)\n"
          ]
        }
      ],
      "source": [
        "def for_cat_Nan(df, features):\n",
        "    for feature in features:\n",
        "        mode_value = df[feature].mode()[0]\n",
        "        df[feature].fillna(mode_value, inplace=True)\n",
        "def for_num_Nan(df, features):\n",
        "    for feature in features:\n",
        "        median_value = df[feature].mode()[0]\n",
        "        df[feature].fillna(median_value, inplace=True)\n",
        "\n",
        "cat_Nan = ['Type_of_Loan', 'Credit_Mix']\n",
        "num_Nan = ['Monthly_Inhand_Salary', 'Num_Credit_Inquiries', 'Amount_invested_monthly', 'Num_of_Delayed_Payment', 'Monthly_Balance', 'Changed_Credit_Limit']\n",
        "\n",
        "for_cat_Nan(df,cat_Nan)\n",
        "for_num_Nan(df,num_Nan)"
      ]
    },
    {
      "cell_type": "code",
      "execution_count": 9,
      "metadata": {
        "colab": {
          "base_uri": "https://localhost:8080/"
        },
        "id": "hhQ-6CD7nJd0",
        "outputId": "cdbf4e84-405c-4304-ba17-8a1a66648474"
      },
      "outputs": [
        {
          "name": "stdout",
          "output_type": "stream",
          "text": [
            "Month                       0.0\n",
            "Age                         0.0\n",
            "Occupation                  0.0\n",
            "Annual_Income               0.0\n",
            "Monthly_Inhand_Salary       0.0\n",
            "Num_Bank_Accounts           0.0\n",
            "Num_Credit_Card             0.0\n",
            "Interest_Rate               0.0\n",
            "Num_of_Loan                 0.0\n",
            "Type_of_Loan                0.0\n",
            "Delay_from_due_date         0.0\n",
            "Num_of_Delayed_Payment      0.0\n",
            "Changed_Credit_Limit        0.0\n",
            "Num_Credit_Inquiries        0.0\n",
            "Credit_Mix                  0.0\n",
            "Outstanding_Debt            0.0\n",
            "Credit_Utilization_Ratio    0.0\n",
            "Payment_of_Min_Amount       0.0\n",
            "Total_EMI_per_month         0.0\n",
            "Amount_invested_monthly     0.0\n",
            "Payment_Behaviour           0.0\n",
            "Monthly_Balance             0.0\n",
            "Credit_Score                0.0\n",
            "dtype: float64\n"
          ]
        }
      ],
      "source": [
        "print((df.isnull().sum())/df.shape[0]*100)"
      ]
    },
    {
      "cell_type": "code",
      "execution_count": 10,
      "metadata": {
        "colab": {
          "base_uri": "https://localhost:8080/",
          "height": 805
        },
        "id": "PA4PDlNBnJd0",
        "outputId": "a1a8cbab-46bd-4a7e-af7b-04d3d50f240a"
      },
      "outputs": [
        {
          "data": {
            "text/plain": [
              "Month                        object\n",
              "Age                           int64\n",
              "Occupation                   object\n",
              "Annual_Income               float64\n",
              "Monthly_Inhand_Salary       float64\n",
              "Num_Bank_Accounts             int64\n",
              "Num_Credit_Card               int64\n",
              "Interest_Rate                 int64\n",
              "Num_of_Loan                 float64\n",
              "Type_of_Loan                 object\n",
              "Delay_from_due_date           int64\n",
              "Num_of_Delayed_Payment      float64\n",
              "Changed_Credit_Limit        float64\n",
              "Num_Credit_Inquiries        float64\n",
              "Credit_Mix                   object\n",
              "Outstanding_Debt            float64\n",
              "Credit_Utilization_Ratio    float64\n",
              "Payment_of_Min_Amount        object\n",
              "Total_EMI_per_month         float64\n",
              "Amount_invested_monthly     float64\n",
              "Payment_Behaviour            object\n",
              "Monthly_Balance             float64\n",
              "Credit_Score                 object\n",
              "dtype: object"
            ]
          },
          "execution_count": 10,
          "metadata": {},
          "output_type": "execute_result"
        }
      ],
      "source": [
        "df.dtypes"
      ]
    },
    {
      "cell_type": "code",
      "execution_count": 11,
      "metadata": {
        "colab": {
          "base_uri": "https://localhost:8080/"
        },
        "id": "T6hqqA5nnJd0",
        "outputId": "dd21c4cc-8b02-4eed-f14b-2bc221b85101"
      },
      "outputs": [
        {
          "name": "stdout",
          "output_type": "stream",
          "text": [
            "Month\n",
            "January     12500\n",
            "February    12500\n",
            "March       12500\n",
            "April       12500\n",
            "May         12500\n",
            "June        12500\n",
            "July        12500\n",
            "August      12500\n",
            "Name: count, dtype: int64\n",
            "\n",
            "Occupation\n",
            "_______          7062\n",
            "Lawyer           6575\n",
            "Architect        6355\n",
            "Engineer         6350\n",
            "Scientist        6299\n",
            "Mechanic         6291\n",
            "Accountant       6271\n",
            "Developer        6235\n",
            "Media_Manager    6232\n",
            "Teacher          6215\n",
            "Entrepreneur     6174\n",
            "Doctor           6087\n",
            "Journalist       6085\n",
            "Manager          5973\n",
            "Musician         5911\n",
            "Writer           5885\n",
            "Name: count, dtype: int64\n",
            "\n",
            "Type_of_Loan\n",
            "Not Specified                                                                                                                         12816\n",
            "Credit-Builder Loan                                                                                                                    1280\n",
            "Personal Loan                                                                                                                          1272\n",
            "Debt Consolidation Loan                                                                                                                1264\n",
            "Student Loan                                                                                                                           1240\n",
            "                                                                                                                                      ...  \n",
            "Not Specified, Mortgage Loan, Auto Loan, and Payday Loan                                                                                  8\n",
            "Payday Loan, Mortgage Loan, Debt Consolidation Loan, and Student Loan                                                                     8\n",
            "Debt Consolidation Loan, Auto Loan, Personal Loan, Debt Consolidation Loan, Student Loan, and Credit-Builder Loan                         8\n",
            "Student Loan, Auto Loan, Student Loan, Credit-Builder Loan, Home Equity Loan, Debt Consolidation Loan, and Debt Consolidation Loan        8\n",
            "Personal Loan, Auto Loan, Mortgage Loan, Student Loan, and Student Loan                                                                   8\n",
            "Name: count, Length: 6260, dtype: int64\n",
            "\n",
            "Credit_Mix\n",
            "Standard    56674\n",
            "Good        24337\n",
            "Bad         18989\n",
            "Name: count, dtype: int64\n",
            "\n",
            "Payment_of_Min_Amount\n",
            "Yes    52326\n",
            "No     35667\n",
            "NM     12007\n",
            "Name: count, dtype: int64\n",
            "\n",
            "Payment_Behaviour\n",
            "Low_spent_Small_value_payments      25513\n",
            "High_spent_Medium_value_payments    17540\n",
            "Low_spent_Medium_value_payments     13861\n",
            "High_spent_Large_value_payments     13721\n",
            "High_spent_Small_value_payments     11340\n",
            "Low_spent_Large_value_payments      10425\n",
            "!@9#%8                               7600\n",
            "Name: count, dtype: int64\n",
            "\n",
            "Credit_Score\n",
            "Standard    53174\n",
            "Poor        28998\n",
            "Good        17828\n",
            "Name: count, dtype: int64\n",
            "\n"
          ]
        }
      ],
      "source": [
        "label_encoder = LabelEncoder()\n",
        "\n",
        "for col_name, col_type in df.dtypes.items():\n",
        "  if (col_type == object):\n",
        "    print(df[col_name].value_counts(), end='\\n\\n')\n",
        "    df[col_name] = label_encoder.fit_transform(df[col_name])"
      ]
    },
    {
      "cell_type": "code",
      "execution_count": 12,
      "metadata": {
        "id": "DajubkyrnJd0"
      },
      "outputs": [],
      "source": [
        "df.rename(columns={'Credit_Score': 'target'}, inplace=True)"
      ]
    },
    {
      "cell_type": "code",
      "execution_count": 13,
      "metadata": {
        "colab": {
          "base_uri": "https://localhost:8080/",
          "height": 255
        },
        "id": "VcY9ZiMGnJd0",
        "outputId": "4bb6b426-e621-4c0c-b5fa-2b364eced356"
      },
      "outputs": [
        {
          "data": {
            "text/html": [
              "<div>\n",
              "<style scoped>\n",
              "    .dataframe tbody tr th:only-of-type {\n",
              "        vertical-align: middle;\n",
              "    }\n",
              "\n",
              "    .dataframe tbody tr th {\n",
              "        vertical-align: top;\n",
              "    }\n",
              "\n",
              "    .dataframe thead th {\n",
              "        text-align: right;\n",
              "    }\n",
              "</style>\n",
              "<table border=\"1\" class=\"dataframe\">\n",
              "  <thead>\n",
              "    <tr style=\"text-align: right;\">\n",
              "      <th></th>\n",
              "      <th>Month</th>\n",
              "      <th>Age</th>\n",
              "      <th>Occupation</th>\n",
              "      <th>Annual_Income</th>\n",
              "      <th>Monthly_Inhand_Salary</th>\n",
              "      <th>Num_Bank_Accounts</th>\n",
              "      <th>Num_Credit_Card</th>\n",
              "      <th>Interest_Rate</th>\n",
              "      <th>Num_of_Loan</th>\n",
              "      <th>Type_of_Loan</th>\n",
              "      <th>...</th>\n",
              "      <th>Num_Credit_Inquiries</th>\n",
              "      <th>Credit_Mix</th>\n",
              "      <th>Outstanding_Debt</th>\n",
              "      <th>Credit_Utilization_Ratio</th>\n",
              "      <th>Payment_of_Min_Amount</th>\n",
              "      <th>Total_EMI_per_month</th>\n",
              "      <th>Amount_invested_monthly</th>\n",
              "      <th>Payment_Behaviour</th>\n",
              "      <th>Monthly_Balance</th>\n",
              "      <th>target</th>\n",
              "    </tr>\n",
              "  </thead>\n",
              "  <tbody>\n",
              "    <tr>\n",
              "      <th>0</th>\n",
              "      <td>3</td>\n",
              "      <td>23</td>\n",
              "      <td>12</td>\n",
              "      <td>19114.12</td>\n",
              "      <td>1824.843333</td>\n",
              "      <td>3</td>\n",
              "      <td>4</td>\n",
              "      <td>3</td>\n",
              "      <td>4.0</td>\n",
              "      <td>128</td>\n",
              "      <td>...</td>\n",
              "      <td>4.0</td>\n",
              "      <td>2</td>\n",
              "      <td>809.98</td>\n",
              "      <td>26.822620</td>\n",
              "      <td>1</td>\n",
              "      <td>49.574949</td>\n",
              "      <td>80.415295</td>\n",
              "      <td>3</td>\n",
              "      <td>312.494089</td>\n",
              "      <td>0</td>\n",
              "    </tr>\n",
              "    <tr>\n",
              "      <th>1</th>\n",
              "      <td>2</td>\n",
              "      <td>23</td>\n",
              "      <td>12</td>\n",
              "      <td>19114.12</td>\n",
              "      <td>2295.058333</td>\n",
              "      <td>3</td>\n",
              "      <td>4</td>\n",
              "      <td>3</td>\n",
              "      <td>4.0</td>\n",
              "      <td>128</td>\n",
              "      <td>...</td>\n",
              "      <td>4.0</td>\n",
              "      <td>1</td>\n",
              "      <td>809.98</td>\n",
              "      <td>31.944960</td>\n",
              "      <td>1</td>\n",
              "      <td>49.574949</td>\n",
              "      <td>118.280222</td>\n",
              "      <td>4</td>\n",
              "      <td>284.629162</td>\n",
              "      <td>0</td>\n",
              "    </tr>\n",
              "    <tr>\n",
              "      <th>2</th>\n",
              "      <td>6</td>\n",
              "      <td>-500</td>\n",
              "      <td>12</td>\n",
              "      <td>19114.12</td>\n",
              "      <td>2295.058333</td>\n",
              "      <td>3</td>\n",
              "      <td>4</td>\n",
              "      <td>3</td>\n",
              "      <td>4.0</td>\n",
              "      <td>128</td>\n",
              "      <td>...</td>\n",
              "      <td>4.0</td>\n",
              "      <td>1</td>\n",
              "      <td>809.98</td>\n",
              "      <td>28.609352</td>\n",
              "      <td>1</td>\n",
              "      <td>49.574949</td>\n",
              "      <td>81.699521</td>\n",
              "      <td>5</td>\n",
              "      <td>331.209863</td>\n",
              "      <td>0</td>\n",
              "    </tr>\n",
              "    <tr>\n",
              "      <th>3</th>\n",
              "      <td>0</td>\n",
              "      <td>23</td>\n",
              "      <td>12</td>\n",
              "      <td>19114.12</td>\n",
              "      <td>2295.058333</td>\n",
              "      <td>3</td>\n",
              "      <td>4</td>\n",
              "      <td>3</td>\n",
              "      <td>4.0</td>\n",
              "      <td>128</td>\n",
              "      <td>...</td>\n",
              "      <td>4.0</td>\n",
              "      <td>1</td>\n",
              "      <td>809.98</td>\n",
              "      <td>31.377862</td>\n",
              "      <td>1</td>\n",
              "      <td>49.574949</td>\n",
              "      <td>199.458074</td>\n",
              "      <td>6</td>\n",
              "      <td>223.451310</td>\n",
              "      <td>0</td>\n",
              "    </tr>\n",
              "    <tr>\n",
              "      <th>4</th>\n",
              "      <td>7</td>\n",
              "      <td>23</td>\n",
              "      <td>12</td>\n",
              "      <td>19114.12</td>\n",
              "      <td>1824.843333</td>\n",
              "      <td>3</td>\n",
              "      <td>4</td>\n",
              "      <td>3</td>\n",
              "      <td>4.0</td>\n",
              "      <td>128</td>\n",
              "      <td>...</td>\n",
              "      <td>4.0</td>\n",
              "      <td>1</td>\n",
              "      <td>809.98</td>\n",
              "      <td>24.797347</td>\n",
              "      <td>1</td>\n",
              "      <td>49.574949</td>\n",
              "      <td>41.420153</td>\n",
              "      <td>2</td>\n",
              "      <td>341.489231</td>\n",
              "      <td>0</td>\n",
              "    </tr>\n",
              "  </tbody>\n",
              "</table>\n",
              "<p>5 rows × 23 columns</p>\n",
              "</div>"
            ],
            "text/plain": [
              "   Month  Age  Occupation  Annual_Income  Monthly_Inhand_Salary  \\\n",
              "0      3   23          12       19114.12            1824.843333   \n",
              "1      2   23          12       19114.12            2295.058333   \n",
              "2      6 -500          12       19114.12            2295.058333   \n",
              "3      0   23          12       19114.12            2295.058333   \n",
              "4      7   23          12       19114.12            1824.843333   \n",
              "\n",
              "   Num_Bank_Accounts  Num_Credit_Card  Interest_Rate  Num_of_Loan  \\\n",
              "0                  3                4              3          4.0   \n",
              "1                  3                4              3          4.0   \n",
              "2                  3                4              3          4.0   \n",
              "3                  3                4              3          4.0   \n",
              "4                  3                4              3          4.0   \n",
              "\n",
              "   Type_of_Loan  ...  Num_Credit_Inquiries  Credit_Mix  Outstanding_Debt  \\\n",
              "0           128  ...                   4.0           2            809.98   \n",
              "1           128  ...                   4.0           1            809.98   \n",
              "2           128  ...                   4.0           1            809.98   \n",
              "3           128  ...                   4.0           1            809.98   \n",
              "4           128  ...                   4.0           1            809.98   \n",
              "\n",
              "   Credit_Utilization_Ratio  Payment_of_Min_Amount  Total_EMI_per_month  \\\n",
              "0                 26.822620                      1            49.574949   \n",
              "1                 31.944960                      1            49.574949   \n",
              "2                 28.609352                      1            49.574949   \n",
              "3                 31.377862                      1            49.574949   \n",
              "4                 24.797347                      1            49.574949   \n",
              "\n",
              "   Amount_invested_monthly  Payment_Behaviour  Monthly_Balance  target  \n",
              "0                80.415295                  3       312.494089       0  \n",
              "1               118.280222                  4       284.629162       0  \n",
              "2                81.699521                  5       331.209863       0  \n",
              "3               199.458074                  6       223.451310       0  \n",
              "4                41.420153                  2       341.489231       0  \n",
              "\n",
              "[5 rows x 23 columns]"
            ]
          },
          "execution_count": 13,
          "metadata": {},
          "output_type": "execute_result"
        }
      ],
      "source": [
        "df.head()"
      ]
    },
    {
      "cell_type": "code",
      "execution_count": 14,
      "metadata": {
        "colab": {
          "base_uri": "https://localhost:8080/",
          "height": 805
        },
        "id": "cc1IPmGg0vVX",
        "outputId": "eb4f4a7b-f4ce-414f-ada4-e5f3d0704a7b"
      },
      "outputs": [
        {
          "data": {
            "text/plain": [
              "Month                         int64\n",
              "Age                           int64\n",
              "Occupation                    int64\n",
              "Annual_Income               float64\n",
              "Monthly_Inhand_Salary       float64\n",
              "Num_Bank_Accounts             int64\n",
              "Num_Credit_Card               int64\n",
              "Interest_Rate                 int64\n",
              "Num_of_Loan                 float64\n",
              "Type_of_Loan                  int64\n",
              "Delay_from_due_date           int64\n",
              "Num_of_Delayed_Payment      float64\n",
              "Changed_Credit_Limit        float64\n",
              "Num_Credit_Inquiries        float64\n",
              "Credit_Mix                    int64\n",
              "Outstanding_Debt            float64\n",
              "Credit_Utilization_Ratio    float64\n",
              "Payment_of_Min_Amount         int64\n",
              "Total_EMI_per_month         float64\n",
              "Amount_invested_monthly     float64\n",
              "Payment_Behaviour             int64\n",
              "Monthly_Balance             float64\n",
              "target                        int64\n",
              "dtype: object"
            ]
          },
          "execution_count": 14,
          "metadata": {},
          "output_type": "execute_result"
        }
      ],
      "source": [
        "df.dtypes"
      ]
    },
    {
      "cell_type": "markdown",
      "metadata": {
        "id": "bjM3rgpynJd1"
      },
      "source": [
        "\n",
        "---\n",
        "## Валидация\n"
      ]
    },
    {
      "cell_type": "code",
      "execution_count": 15,
      "metadata": {
        "id": "ePhxVCkXnJd1"
      },
      "outputs": [],
      "source": [
        "# Разделение на три выборки (трэин / тест / валидация)\n",
        "X = df.drop(columns='target')\n",
        "y = df['target']\n",
        "X_t, X_test, y_t, y_test = train_test_split(X, y,\n",
        "                                                    test_size=0.2,\n",
        "                                                    #shuffle=True,\n",
        "                                                    stratify=y,\n",
        "                                                    random_state=100)\n",
        "X_train, X_val, y_train, y_val = train_test_split(X_t, y_t,\n",
        "                                                    test_size=0.25,\n",
        "                                                   # shuffle=True,\n",
        "                                                    stratify=y_t,\n",
        "                                                    random_state=100)"
      ]
    },
    {
      "cell_type": "code",
      "execution_count": 16,
      "metadata": {
        "id": "lMG4i_2fnJd1"
      },
      "outputs": [],
      "source": [
        "# with open('./saved_model/model.pkl', 'wb') as file:\n",
        "#     pickle.dump(clf_for_catboost, file)"
      ]
    },
    {
      "cell_type": "code",
      "execution_count": 17,
      "metadata": {
        "id": "EyBrjF1gnJd1"
      },
      "outputs": [],
      "source": [
        "# Чистим колокнки\n",
        "cat_features_copy = ['Month',\n",
        " 'Occupation',\n",
        " 'Type_of_Loan',\n",
        " 'Credit_Mix',\n",
        " 'Payment_of_Min_Amount',\n",
        " 'Payment_Behaviour'];\n",
        "targets = [\"target\"]\n",
        "features2drop = []\n",
        "filtered_features = [i for i in X_train.columns if (i not in targets and i not in features2drop)]\n",
        "num_features = [i for i in filtered_features if i not in cat_features]"
      ]
    },
    {
      "cell_type": "code",
      "execution_count": 18,
      "metadata": {
        "colab": {
          "base_uri": "https://localhost:8080/"
        },
        "id": "7PVT5yyznJd1",
        "outputId": "415ee214-c2c1-4eb6-e0d7-3c2cdb2e41ee"
      },
      "outputs": [
        {
          "name": "stdout",
          "output_type": "stream",
          "text": [
            "Accuracy on train set: 0.8428\n",
            "Accuracy on test set: 0.7882\n",
            "F1 score on train set: 0.8431\n",
            "F1 score on test set: 0.7886\n"
          ]
        }
      ],
      "source": [
        "from catboost import CatBoostClassifier\n",
        "from sklearn.metrics import accuracy_score, f1_score\n",
        "\n",
        "\n",
        "# Обучение модели CatBoost с лучшими гиперпараметрами\n",
        "clf = CatBoostClassifier(\n",
        "    thread_count=-1,\n",
        "    random_seed=100,\n",
        "    cat_features=cat_features,\n",
        ")\n",
        "\n",
        "# Обучение на тренировочных данных\n",
        "clf.fit(\n",
        "    X_train,\n",
        "    y_train,\n",
        "    eval_set=(X_val, y_val),\n",
        "    verbose=0,\n",
        "    plot=False,\n",
        "    early_stopping_rounds=50,\n",
        ")\n",
        "\n",
        "# Предсказание на тренировочном наборе\n",
        "y_train_pred = clf.predict(X_train)\n",
        "\n",
        "# Предсказание на валидационном наборе\n",
        "y_val_pred = clf.predict(X_train)\n",
        "\n",
        "# Предсказание на тестовом наборе\n",
        "y_test_pred = clf.predict(X_test)\n",
        "\n",
        "# Вычисление и вывод точности и F1-меры\n",
        "train_accuracy = accuracy_score(y_train, y_train_pred)\n",
        "test_accuracy = accuracy_score(y_test, y_test_pred)\n",
        "\n",
        "train_f1 = f1_score(y_train, y_train_pred, average = 'weighted')\n",
        "test_f1 = f1_score(y_test, y_test_pred, average = 'weighted')\n",
        "\n",
        "print(\"Accuracy on train set: {:.4f}\".format(train_accuracy))\n",
        "print(\"Accuracy on test set: {:.4f}\".format(test_accuracy))\n",
        "\n",
        "print(\"F1 score on train set: {:.4f}\".format(train_f1))\n",
        "print(\"F1 score on test set: {:.4f}\".format(test_f1))"
      ]
    },
    {
      "cell_type": "code",
      "execution_count": 19,
      "metadata": {
        "colab": {
          "base_uri": "https://localhost:8080/",
          "height": 805
        },
        "id": "Av0Smt8hnJd1",
        "outputId": "a4b9c107-6a97-48a7-8ea9-68b5dcd757c0"
      },
      "outputs": [
        {
          "data": {
            "text/plain": [
              "Month                         int64\n",
              "Age                           int64\n",
              "Occupation                    int64\n",
              "Annual_Income               float64\n",
              "Monthly_Inhand_Salary       float64\n",
              "Num_Bank_Accounts             int64\n",
              "Num_Credit_Card               int64\n",
              "Interest_Rate                 int64\n",
              "Num_of_Loan                 float64\n",
              "Type_of_Loan                  int64\n",
              "Delay_from_due_date           int64\n",
              "Num_of_Delayed_Payment      float64\n",
              "Changed_Credit_Limit        float64\n",
              "Num_Credit_Inquiries        float64\n",
              "Credit_Mix                    int64\n",
              "Outstanding_Debt            float64\n",
              "Credit_Utilization_Ratio    float64\n",
              "Payment_of_Min_Amount         int64\n",
              "Total_EMI_per_month         float64\n",
              "Amount_invested_monthly     float64\n",
              "Payment_Behaviour             int64\n",
              "Monthly_Balance             float64\n",
              "target                        int64\n",
              "dtype: object"
            ]
          },
          "execution_count": 19,
          "metadata": {},
          "output_type": "execute_result"
        }
      ],
      "source": [
        "df.dtypes"
      ]
    },
    {
      "cell_type": "code",
      "execution_count": 20,
      "metadata": {
        "colab": {
          "base_uri": "https://localhost:8080/"
        },
        "id": "bqUtigm2nJd2",
        "outputId": "c2d0b968-3b5b-4a01-d4a7-2bd923353865"
      },
      "outputs": [
        {
          "name": "stdout",
          "output_type": "stream",
          "text": [
            "Accuracy on train set: 0.8428\n",
            "Accuracy on test set: 0.7882\n",
            "F1 score on train set: 0.8431\n",
            "F1 score on test set: 0.7886\n"
          ]
        }
      ],
      "source": [
        "from catboost import CatBoostClassifier\n",
        "from sklearn.metrics import accuracy_score, f1_score\n",
        "\n",
        "\n",
        "# Обучение модели CatBoost с лучшими гиперпараметрами\n",
        "clf = CatBoostClassifier(\n",
        "    thread_count=-1,\n",
        "    random_seed=100,\n",
        "    cat_features=cat_features,\n",
        ")\n",
        "\n",
        "# Обучение на тренировочных данных\n",
        "clf.fit(\n",
        "    X_train,\n",
        "    y_train,\n",
        "    eval_set=(X_val, y_val),\n",
        "    verbose=0,\n",
        "    plot=False,\n",
        "    early_stopping_rounds=50,\n",
        ")\n",
        "\n",
        "# Предсказание на тренировочном наборе\n",
        "y_train_pred = clf.predict(X_train)\n",
        "\n",
        "# Предсказание на валидационном наборе\n",
        "y_val_pred = clf.predict(X_val)\n",
        "\n",
        "# Предсказание на тестовом наборе\n",
        "y_test_pred = clf.predict(X_test)\n",
        "\n",
        "# Вычисление и вывод точности и F1-меры\n",
        "train_accuracy = accuracy_score(y_train, y_train_pred)\n",
        "test_accuracy = accuracy_score(y_test, y_test_pred)\n",
        "\n",
        "train_f1 = f1_score(y_train, y_train_pred, average = 'weighted')\n",
        "test_f1 = f1_score(y_test, y_test_pred, average = 'weighted')\n",
        "\n",
        "print(\"Accuracy on train set: {:.4f}\".format(train_accuracy))\n",
        "print(\"Accuracy on test set: {:.4f}\".format(test_accuracy))\n",
        "\n",
        "print(\"F1 score on train set: {:.4f}\".format(train_f1))\n",
        "print(\"F1 score on test set: {:.4f}\".format(test_f1))"
      ]
    },
    {
      "cell_type": "code",
      "execution_count": 21,
      "metadata": {
        "colab": {
          "base_uri": "https://localhost:8080/"
        },
        "id": "L4Tfd1panJd2",
        "outputId": "f4a26a20-3852-4cf1-e0a0-2c7f66b20f46"
      },
      "outputs": [
        {
          "name": "stdout",
          "output_type": "stream",
          "text": [
            "fold: acc: 0.7929\n",
            "fold: acc: 0.7935\n",
            "fold: acc: 0.7919\n",
            "fold: acc: 0.7906\n",
            "fold: acc: 0.7897\n",
            "fold: acc: 0.7854\n",
            "fold: acc: 0.7922\n",
            "fold: acc: 0.7911\n",
            "fold: acc: 0.7968\n",
            "fold: acc: 0.7908\n",
            "mean accuracy score -- 0.7914899999999999 0.0028\n"
          ]
        }
      ],
      "source": [
        "import numpy as np\n",
        "import pandas as pd\n",
        "from sklearn.model_selection import StratifiedKFold, train_test_split\n",
        "from sklearn.metrics import accuracy_score\n",
        "from catboost import CatBoostClassifier\n",
        "\n",
        "# Предполагаем, что df_for_auto уже определен и содержит три класса в столбце 'target'\n",
        "X = df.drop(['target'], axis=1)\n",
        "y = df['target']\n",
        "n_splits = 10\n",
        "\n",
        "clfs = [] # Модели, которые обучаю\n",
        "scores = [] # Оценка предсказаний точности\n",
        "kf = StratifiedKFold(n_splits=n_splits, shuffle=True, random_state=7575)\n",
        "\n",
        "for train_index, test_index in kf.split(X, y):\n",
        "    X_train, X_test = X.iloc[train_index], X.iloc[test_index]\n",
        "    y_train, y_test = y.iloc[train_index], y.iloc[test_index]\n",
        "\n",
        "    # Разделение обучающего набора на обучающую и валидационную выборки\n",
        "    X_train, X_val, y_train, y_val = train_test_split(X_train, y_train, test_size=0.3, random_state=7575)\n",
        "\n",
        "    # Создайте CatBoostClassifier для многоклассовой классификации\n",
        "    clf_for_catboost = CatBoostClassifier(\n",
        "        iterations=1000,\n",
        "        learning_rate=0.1,\n",
        "        depth=6,\n",
        "        cat_features=cat_features,\n",
        "        eval_metric='MultiClass',  # Установите метрику для многоклассовой классификации\n",
        "        random_seed=7575,\n",
        "        verbose=0  # Установите в 0, чтобы отключить вывод во время обучения\n",
        "    )\n",
        "\n",
        "    clfs.append(clf_for_catboost)\n",
        "\n",
        "    # Обучение модели на обучающей выборке\n",
        "    clf_for_catboost.fit(X_train, y_train)\n",
        "\n",
        "    # Прогнозирование на тестовом наборе\n",
        "    y_pred = clf_for_catboost.predict(X_test)\n",
        "    score = accuracy_score(y_test, y_pred)\n",
        "    scores.append(score)\n",
        "\n",
        "    print(f\"fold: acc: {score}\")\n",
        "\n",
        "assert len(clfs) == n_splits\n",
        "print(\"mean accuracy score --\", np.mean(scores), np.std(scores).round(4))"
      ]
    },
    {
      "cell_type": "code",
      "execution_count": 22,
      "metadata": {},
      "outputs": [],
      "source": [
        "with open('./saved_model/model.pkl', 'wb') as file:\n",
        "    pickle.dump(clf_for_catboost, file)"
      ]
    }
  ],
  "metadata": {
    "colab": {
      "provenance": []
    },
    "kernelspec": {
      "display_name": "venv",
      "language": "python",
      "name": "python3"
    },
    "language_info": {
      "codemirror_mode": {
        "name": "ipython",
        "version": 3
      },
      "file_extension": ".py",
      "mimetype": "text/x-python",
      "name": "python",
      "nbconvert_exporter": "python",
      "pygments_lexer": "ipython3",
      "version": "3.12.5"
    }
  },
  "nbformat": 4,
  "nbformat_minor": 0
}
